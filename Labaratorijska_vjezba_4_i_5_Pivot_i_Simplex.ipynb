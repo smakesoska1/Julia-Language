{
  "nbformat": 4,
  "nbformat_minor": 0,
  "metadata": {
    "colab": {
      "name": "Labaratorijska vjezba 4 i 5 Pivot i Simplex.ipynb",
      "provenance": [],
      "collapsed_sections": [],
      "include_colab_link": true
    },
    "kernelspec": {
      "name": "julia-1.5",
      "display_name": "Julia 1.5"
    },
    "accelerator": "GPU"
  },
  "cells": [
    {
      "cell_type": "markdown",
      "metadata": {
        "id": "view-in-github",
        "colab_type": "text"
      },
      "source": [
        "<a href=\"https://colab.research.google.com/github/smakesoska1/Julia-Language/blob/main/Labaratorijska_vjezba_4_i_5_Pivot_i_Simplex.ipynb\" target=\"_parent\"><img src=\"https://colab.research.google.com/assets/colab-badge.svg\" alt=\"Open In Colab\"/></a>"
      ]
    },
    {
      "cell_type": "markdown",
      "metadata": {
        "id": "TjavZvG9KwvF"
      },
      "source": [
        "### **Postavka Julie u Google Colab**\n",
        "\n",
        "Potrebno je preuzeti ovaj notebook, upload-ovati ga i pokrenuti kôd ispod prilikom kreiranja notebook-a za sve vježbe. Nakon pokretanja, potrebno je restartovati notebook. U *Runtime* kliknite na *Change runtime type* i odaberite Juliu i GPU. Sada možete koristiti Juliu za sve što radite.\n",
        "\n",
        "U slučaju da vam krene izbacivati greške radi gubitka trenutne sesije izvršite sve naredbe opet i restartujte notebook.\n",
        "\n",
        "\n"
      ]
    },
    {
      "cell_type": "code",
      "metadata": {
        "id": "oMSuTc3pDlHv",
        "colab": {
          "base_uri": "https://localhost:8080/"
        },
        "outputId": "b1d362ac-2d8f-42ce-b912-2102ff3f2cb7"
      },
      "source": [
        "!curl -sSL \"https://julialang-s3.julialang.org/bin/linux/x64/1.5/julia-1.5.2-linux-x86_64.tar.gz\" -o julia.tar.gz\n",
        "!tar -xzf julia.tar.gz -C /usr --strip-components 1\n",
        "!rm -rf julia.tar.gz*\n",
        "!julia -e 'using Pkg; pkg\"add IJulia; precompile\"'\n",
        "!echo \"DONE\""
      ],
      "execution_count": null,
      "outputs": [
        {
          "output_type": "stream",
          "text": [
            "\u001b[32m\u001b[1m Installing\u001b[22m\u001b[39m known registries into `~/.julia`\n",
            "######################################################################## 100.0%\n",
            "\u001b[32m\u001b[1m      Added\u001b[22m\u001b[39m registry `General` to `~/.julia/registries/General`\n",
            "\u001b[32m\u001b[1m  Resolving\u001b[22m\u001b[39m package versions...\n",
            "\u001b[32m\u001b[1m  Installed\u001b[22m\u001b[39m MbedTLS_jll ───── v2.16.8+1\n",
            "\u001b[32m\u001b[1m  Installed\u001b[22m\u001b[39m Artifacts ─────── v1.3.0\n",
            "\u001b[32m\u001b[1m  Installed\u001b[22m\u001b[39m ZeroMQ_jll ────── v4.3.2+5\n",
            "\u001b[32m\u001b[1m  Installed\u001b[22m\u001b[39m VersionParsing ── v1.2.0\n",
            "\u001b[32m\u001b[1m  Installed\u001b[22m\u001b[39m Parsers ───────── v1.0.12\n",
            "\u001b[32m\u001b[1m  Installed\u001b[22m\u001b[39m ZMQ ───────────── v1.2.1\n",
            "\u001b[32m\u001b[1m  Installed\u001b[22m\u001b[39m MbedTLS ───────── v1.0.3\n",
            "\u001b[32m\u001b[1m  Installed\u001b[22m\u001b[39m IJulia ────────── v1.23.0\n",
            "\u001b[32m\u001b[1m  Installed\u001b[22m\u001b[39m SoftGlobalScope ─ v1.1.0\n",
            "\u001b[32m\u001b[1m  Installed\u001b[22m\u001b[39m Conda ─────────── v1.5.0\n",
            "\u001b[32m\u001b[1m  Installed\u001b[22m\u001b[39m JSON ──────────── v0.21.1\n",
            "\u001b[32m\u001b[1m  Installed\u001b[22m\u001b[39m JLLWrappers ───── v1.1.3\n",
            "\u001b[32m\u001b[1mDownloading\u001b[22m\u001b[39m artifact: ZeroMQ\n",
            "######################################################################## 100.0%\n",
            "\u001b[1A\u001b[2K\u001b[?25h\u001b[32m\u001b[1mDownloading\u001b[22m\u001b[39m artifact: MbedTLS\n",
            "######################################################################## 100.0%\n",
            "\u001b[1A\u001b[2K\u001b[?25h\u001b[32m\u001b[1mUpdating\u001b[22m\u001b[39m `~/.julia/environments/v1.5/Project.toml`\n",
            " \u001b[90m [7073ff75] \u001b[39m\u001b[92m+ IJulia v1.23.0\u001b[39m\n",
            "\u001b[32m\u001b[1mUpdating\u001b[22m\u001b[39m `~/.julia/environments/v1.5/Manifest.toml`\n",
            " \u001b[90m [56f22d72] \u001b[39m\u001b[92m+ Artifacts v1.3.0\u001b[39m\n",
            " \u001b[90m [8f4d0f93] \u001b[39m\u001b[92m+ Conda v1.5.0\u001b[39m\n",
            " \u001b[90m [7073ff75] \u001b[39m\u001b[92m+ IJulia v1.23.0\u001b[39m\n",
            " \u001b[90m [692b3bcd] \u001b[39m\u001b[92m+ JLLWrappers v1.1.3\u001b[39m\n",
            " \u001b[90m [682c06a0] \u001b[39m\u001b[92m+ JSON v0.21.1\u001b[39m\n",
            " \u001b[90m [739be429] \u001b[39m\u001b[92m+ MbedTLS v1.0.3\u001b[39m\n",
            " \u001b[90m [c8ffd9c3] \u001b[39m\u001b[92m+ MbedTLS_jll v2.16.8+1\u001b[39m\n",
            " \u001b[90m [69de0a69] \u001b[39m\u001b[92m+ Parsers v1.0.12\u001b[39m\n",
            " \u001b[90m [b85f4697] \u001b[39m\u001b[92m+ SoftGlobalScope v1.1.0\u001b[39m\n",
            " \u001b[90m [81def892] \u001b[39m\u001b[92m+ VersionParsing v1.2.0\u001b[39m\n",
            " \u001b[90m [c2297ded] \u001b[39m\u001b[92m+ ZMQ v1.2.1\u001b[39m\n",
            " \u001b[90m [8f1865be] \u001b[39m\u001b[92m+ ZeroMQ_jll v4.3.2+5\u001b[39m\n",
            " \u001b[90m [2a0f44e3] \u001b[39m\u001b[92m+ Base64\u001b[39m\n",
            " \u001b[90m [ade2ca70] \u001b[39m\u001b[92m+ Dates\u001b[39m\n",
            " \u001b[90m [8ba89e20] \u001b[39m\u001b[92m+ Distributed\u001b[39m\n",
            " \u001b[90m [7b1f6079] \u001b[39m\u001b[92m+ FileWatching\u001b[39m\n",
            " \u001b[90m [b77e0a4c] \u001b[39m\u001b[92m+ InteractiveUtils\u001b[39m\n",
            " \u001b[90m [76f85450] \u001b[39m\u001b[92m+ LibGit2\u001b[39m\n",
            " \u001b[90m [8f399da3] \u001b[39m\u001b[92m+ Libdl\u001b[39m\n",
            " \u001b[90m [56ddb016] \u001b[39m\u001b[92m+ Logging\u001b[39m\n",
            " \u001b[90m [d6f4376e] \u001b[39m\u001b[92m+ Markdown\u001b[39m\n",
            " \u001b[90m [a63ad114] \u001b[39m\u001b[92m+ Mmap\u001b[39m\n",
            " \u001b[90m [44cfe95a] \u001b[39m\u001b[92m+ Pkg\u001b[39m\n",
            " \u001b[90m [de0858da] \u001b[39m\u001b[92m+ Printf\u001b[39m\n",
            " \u001b[90m [3fa0cd96] \u001b[39m\u001b[92m+ REPL\u001b[39m\n",
            " \u001b[90m [9a3f8284] \u001b[39m\u001b[92m+ Random\u001b[39m\n",
            " \u001b[90m [ea8e919c] \u001b[39m\u001b[92m+ SHA\u001b[39m\n",
            " \u001b[90m [9e88b42a] \u001b[39m\u001b[92m+ Serialization\u001b[39m\n",
            " \u001b[90m [6462fe0b] \u001b[39m\u001b[92m+ Sockets\u001b[39m\n",
            " \u001b[90m [8dfed614] \u001b[39m\u001b[92m+ Test\u001b[39m\n",
            " \u001b[90m [cf7118a7] \u001b[39m\u001b[92m+ UUIDs\u001b[39m\n",
            " \u001b[90m [4ec0a83e] \u001b[39m\u001b[92m+ Unicode\u001b[39m\n",
            "\u001b[32m\u001b[1m   Building\u001b[22m\u001b[39m Conda ─→ `~/.julia/packages/Conda/x5ml4/deps/build.log`\n",
            "\u001b[32m\u001b[1m   Building\u001b[22m\u001b[39m IJulia → `~/.julia/packages/IJulia/ljYVo/deps/build.log`\n",
            "\u001b[32m\u001b[1mPrecompiling\u001b[22m\u001b[39m project...\n",
            "DONE\n"
          ],
          "name": "stdout"
        }
      ]
    },
    {
      "cell_type": "markdown",
      "metadata": {
        "id": "rmuJ9Rh8cYPA"
      },
      "source": [
        "# Labaratorijska vjezba 4\n",
        "\n",
        "Studenti:\n",
        "\n",
        "Hasan Haskovic 17717\n",
        "\n",
        "Sara Makesoska-Dzebo 17814\n",
        "\n",
        "# *Opsti oblik simplex algoritma, u ovom slucaju samo inicijaliziramo tabelu i trazimo pivot element*"
      ]
    },
    {
      "cell_type": "code",
      "metadata": {
        "id": "sFLALFo6a8H1"
      },
      "source": [
        "using LinearAlgebra;"
      ],
      "execution_count": null,
      "outputs": []
    },
    {
      "cell_type": "code",
      "metadata": {
        "id": "9UsAxEQDbL9J"
      },
      "source": [
        "function nadji_pivot(c::AbstractArray, b::AbstractArray, A::AbstractMatrix) \n",
        "\n",
        "  #prvo moramo incijalizirati simplex tabelu\n",
        "\n",
        "  #postavljamo velicinu redova i kolona\n",
        "  \n",
        "  nredova, nkolona = size(A)\n",
        "  simplex_tabela = I(nredova) + zeros(nredova, nkolona)\n",
        "\n",
        "  c1novo = zeros(nredova)\n",
        "  #funkcijom append dodajemo c1novo na kraj c\n",
        "  append!(c, c1novo)\n",
        "\n",
        "  #sa hcat nadodaje dimenziju u sirinu \n",
        "  simplex_tabela = hcat(A,simplex_tabela)\n",
        "  c = reshape(c, 1, :)\n",
        "\n",
        "  #sa vcat nadodaje se dimenzija po duzini\n",
        "  simplex_tabela = vcat(simplex_tabela,c)\n",
        "  c2novo = zeros(1)\n",
        "\n",
        "  #nadodaje c2novo na b\n",
        "  append!(b, c2novo)\n",
        "  simplex_tabela= hcat(b, simplex_tabela)\n",
        "\n",
        "   #traženje pivot elementa i vracanje iz f-je\n",
        "\n",
        "#trazimo maksimalni u simplex tabeli\n",
        "  var = last(argmax(simplex_tabela[:, 1:end .!= 1], dims=2))\n",
        "  kolona = var[2]+1\n",
        "  nredova, nkolona = size(simplex_tabela)\n",
        "  rezultat = zeros(eltype(simplex_tabela), nredova-1)\n",
        "\n",
        "  for i in 1:nredova-1\n",
        "  rezultat[i] = simplex_tabela[i, 1]/simplex_tabela[i, kolona]\n",
        "  end\n",
        "  \n",
        "  #indeks ce biti kada nadjemo najmanji \n",
        "   index = findmin(rezultat)\n",
        "  index = index[2]\n",
        "\n",
        "  pivot = simplex_tabela[index, kolona]\n",
        "\n",
        "   return pivot\n",
        "\n",
        "end"
      ],
      "execution_count": null,
      "outputs": []
    },
    {
      "cell_type": "markdown",
      "metadata": {
        "id": "wEmmYINye9y5"
      },
      "source": [
        "*# Primjer da data funkcija radi*"
      ]
    },
    {
      "cell_type": "markdown",
      "metadata": {
        "id": "j5ynpP5WdRzr"
      },
      "source": [
        "*1. Koristeci simplex algoritam rijesiti problem linearnog programiranja:*\n",
        "\n",
        "arg max Z=3x1+x2\n",
        "\n",
        " p.o.\n",
        "\n",
        " 0.5x1+0.3x2<=150\n",
        "\n",
        " 0.1x1 +0.2x2<=60\n",
        "\n",
        " x1>=0,x2>=0    "
      ]
    },
    {
      "cell_type": "markdown",
      "metadata": {
        "id": "0gQ8oAQ7dlrJ"
      },
      "source": [
        "*Rjesenje:*"
      ]
    },
    {
      "cell_type": "markdown",
      "metadata": {
        "id": "ga3aKObRdqEx"
      },
      "source": [
        "Elementi matrice koju saljemo u funkciju su elementi koji stoje uz x1 i x2 u ogranicenjima:"
      ]
    },
    {
      "cell_type": "code",
      "metadata": {
        "id": "xgzVZWXucf7G"
      },
      "source": [
        "A = [0.5 0.3; 0.1 0.2]"
      ],
      "execution_count": null,
      "outputs": []
    },
    {
      "cell_type": "code",
      "metadata": {
        "id": "dYnYhA71cre0",
        "colab": {
          "base_uri": "https://localhost:8080/"
        },
        "outputId": "05d704e7-5d20-4e2b-c891-1e984b6f41c0"
      },
      "source": [
        "c = Vector{Float64}()\n",
        "push!(c, 3.0)\n",
        "push!(c, 1.0)"
      ],
      "execution_count": null,
      "outputs": [
        {
          "output_type": "execute_result",
          "data": {
            "text/plain": [
              "2-element Array{Float64,1}:\n",
              " 3.0\n",
              " 1.0"
            ]
          },
          "metadata": {
            "tags": []
          },
          "execution_count": 4
        }
      ]
    },
    {
      "cell_type": "code",
      "metadata": {
        "id": "NJSvVIo3cu-U",
        "colab": {
          "base_uri": "https://localhost:8080/"
        },
        "outputId": "b7fd3316-348f-42cd-b69a-71f5cadbc6e5"
      },
      "source": [
        "b = Vector{Float64}()\n",
        "push!(b, 150.0)\n",
        "push!(b, 60.0)"
      ],
      "execution_count": null,
      "outputs": [
        {
          "output_type": "execute_result",
          "data": {
            "text/plain": [
              "2-element Array{Float64,1}:\n",
              " 150.0\n",
              "  60.0"
            ]
          },
          "metadata": {
            "tags": []
          },
          "execution_count": 5
        }
      ]
    },
    {
      "cell_type": "code",
      "metadata": {
        "id": "9nStjL_hcySP"
      },
      "source": [
        "nadji_pivot(c,b,A)"
      ],
      "execution_count": null,
      "outputs": []
    },
    {
      "cell_type": "markdown",
      "metadata": {
        "id": "ObpKh0SACFQO"
      },
      "source": [
        "*Kada smo implementirali funkciju nadji_pivot(), ostalo nam je još da implementiramo ostatak simpleks algoritma.*"
      ]
    },
    {
      "cell_type": "code",
      "metadata": {
        "id": "cuRn0aUtCeLf",
        "colab": {
          "base_uri": "https://localhost:8080/"
        },
        "outputId": "a170fa37-fca0-4a2b-e98b-59e7fcc6ce0b"
      },
      "source": [
        "function simplex_metoda(c::AbstractArray, b::AbstractArray, A::AbstractMatrix)\n",
        "   #ukljucit incijalizaciju siplex tabele i pivotiranje\n",
        "    while !isOptimal(simplex_tabela)\n",
        "      !(simplex_tabela)\n",
        "      print_tabela(simplex_tabela)\n",
        "    end\n",
        "\n",
        "    opt_x = zeros(length(c))\n",
        "\n",
        "    return opt_x, simplex_tabela.obj\n",
        "  end"
      ],
      "execution_count": null,
      "outputs": [
        {
          "output_type": "execute_result",
          "data": {
            "text/plain": [
              "simplex_metoda (generic function with 1 method)"
            ]
          },
          "metadata": {
            "tags": []
          },
          "execution_count": 18
        }
      ]
    },
    {
      "cell_type": "code",
      "metadata": {
        "id": "G8pjhOR5Ldh0",
        "colab": {
          "base_uri": "https://localhost:8080/"
        },
        "outputId": "7274c155-e3af-4d6e-9e31-3e947961584d"
      },
      "source": [
        "function isOptimal(simplex_tabela)\n",
        "    return pronadji_prvi( simpex_tabela.z_c .> 0 ) == 0\n",
        "  end"
      ],
      "execution_count": null,
      "outputs": [
        {
          "output_type": "execute_result",
          "data": {
            "text/plain": [
              "isOptimal (generic function with 1 method)"
            ]
          },
          "metadata": {
            "tags": []
          },
          "execution_count": 15
        }
      ]
    }
  ]
}