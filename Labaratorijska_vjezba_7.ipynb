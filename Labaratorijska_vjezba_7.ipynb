{
  "nbformat": 4,
  "nbformat_minor": 0,
  "metadata": {
    "colab": {
      "name": "Labaratorijska vjezba 7.jl",
      "provenance": [],
      "collapsed_sections": [],
      "include_colab_link": true
    },
    "kernelspec": {
      "name": "julia-1.5",
      "display_name": "Julia 1.5"
    },
    "accelerator": "GPU"
  },
  "cells": [
    {
      "cell_type": "markdown",
      "metadata": {
        "id": "view-in-github",
        "colab_type": "text"
      },
      "source": [
        "<a href=\"https://colab.research.google.com/github/smakesoska1/Julia-Language/blob/main/Labaratorijska_vjezba_7.ipynb\" target=\"_parent\"><img src=\"https://colab.research.google.com/assets/colab-badge.svg\" alt=\"Open In Colab\"/></a>"
      ]
    },
    {
      "cell_type": "markdown",
      "metadata": {
        "id": "TjavZvG9KwvF"
      },
      "source": [
        "### **Postavka Julie u Google Colab**\n",
        "\n",
        "Potrebno je preuzeti ovaj notebook, upload-ovati ga i pokrenuti kôd ispod prilikom kreiranja notebook-a za sve vježbe. Nakon pokretanja, potrebno je restartovati notebook. U *Runtime* kliknite na *Change runtime type* i odaberite Juliu i GPU. Sada možete koristiti Juliu za sve što radite.\n",
        "\n",
        "U slučaju da vam krene izbacivati greške radi gubitka trenutne sesije izvršite sve naredbe opet i restartujte notebook.\n",
        "\n",
        "\n"
      ]
    },
    {
      "cell_type": "code",
      "metadata": {
        "id": "oMSuTc3pDlHv"
      },
      "source": [
        "!curl -sSL \"https://julialang-s3.julialang.org/bin/linux/x64/1.5/julia-1.5.2-linux-x86_64.tar.gz\" -o julia.tar.gz\n",
        "!tar -xzf julia.tar.gz -C /usr --strip-components 1\n",
        "!rm -rf julia.tar.gz*\n",
        "!julia -e 'using Pkg; pkg\"add IJulia; precompile\"'\n",
        "!echo \"DONE\""
      ],
      "execution_count": null,
      "outputs": []
    },
    {
      "cell_type": "code",
      "metadata": {
        "id": "zxja3AGbKp2v"
      },
      "source": [
        "import Pkg;\n",
        " Pkg.add(\"JuMP\")"
      ],
      "execution_count": null,
      "outputs": []
    },
    {
      "cell_type": "code",
      "metadata": {
        "id": "F_q7cf3oKgAT"
      },
      "source": [
        "using JuMP, Gurobi"
      ],
      "execution_count": null,
      "outputs": []
    },
    {
      "cell_type": "code",
      "metadata": {
        "id": "022AttIQM24_"
      },
      "source": [
        "using LinearAlgebra;"
      ],
      "execution_count": null,
      "outputs": []
    },
    {
      "cell_type": "code",
      "metadata": {
        "colab": {
          "base_uri": "https://localhost:8080/"
        },
        "id": "xgIahZnCMYTr",
        "outputId": "4cd12af8-fa08-434b-ac6d-a6c299b91df6"
      },
      "source": [
        "function nadji_pocetno_SZU(c::AbstractMatrix, I::AbstractVector,O::AbstractVector)\n",
        "\n",
        "brred,brkol = size(c)\n",
        "A=zeros(Int8,brred,brkol)\n",
        "i=1\n",
        "j=1\n",
        "while((i<=brred) && (j<=brkol))\n",
        "if I[i]<O[j]\n",
        "A[i,j]=I[i]\n",
        "O[j]=O[j]-I[i]\n",
        "I[i]=0\n",
        "i=i+1\n",
        "\n",
        "elseif I[i]>O[j]\n",
        "A[i,j]=O[j]\n",
        "I[i]=I[i]-O[j]\n",
        "O[j]=0\n",
        "j=j+1\n",
        "\n",
        "else\n",
        "A[i,j]=I[i]\n",
        "I[i]=0\n",
        "O[j]=0\n",
        "i=i+1\n",
        "j=j+1\n",
        "end\n",
        "    end\n",
        "\n",
        "T=sum(A.*c)\n",
        "return A,T\n",
        "end"
      ],
      "execution_count": null,
      "outputs": [
        {
          "output_type": "execute_result",
          "data": {
            "text/plain": [
              "nadji_pocetno_SZU (generic function with 1 method)"
            ]
          },
          "metadata": {
            "tags": []
          },
          "execution_count": 16
        }
      ]
    },
    {
      "cell_type": "markdown",
      "metadata": {
        "id": "Lkiv41FHMCxP"
      },
      "source": [
        "Q____Q"
      ]
    },
    {
      "cell_type": "markdown",
      "metadata": {
        "id": "CPF74pjLR-2V"
      },
      "source": [
        "Testovi"
      ]
    },
    {
      "cell_type": "code",
      "metadata": {
        "id": "fuoTtZTYR-cR",
        "colab": {
          "base_uri": "https://localhost:8080/"
        },
        "outputId": "86cd8641-fd13-4ac8-92aa-2182e84df000"
      },
      "source": [
        "c=[8 9 4 6; 6 9 5 3;5 6 7 4]"
      ],
      "execution_count": null,
      "outputs": [
        {
          "output_type": "execute_result",
          "data": {
            "text/plain": [
              "3×4 Array{Int64,2}:\n",
              " 8  9  4  6\n",
              " 6  9  5  3\n",
              " 5  6  7  4"
            ]
          },
          "metadata": {
            "tags": []
          },
          "execution_count": 12
        }
      ]
    },
    {
      "cell_type": "code",
      "metadata": {
        "colab": {
          "base_uri": "https://localhost:8080/"
        },
        "id": "GnDoeA2nS4MK",
        "outputId": "2ff8c7e3-4b1b-4bc8-94de-e83373457c38"
      },
      "source": [
        "I=[100;120;130]"
      ],
      "execution_count": null,
      "outputs": [
        {
          "output_type": "execute_result",
          "data": {
            "text/plain": [
              "3-element Array{Int64,1}:\n",
              " 100\n",
              " 120\n",
              " 130"
            ]
          },
          "metadata": {
            "tags": []
          },
          "execution_count": 13
        }
      ]
    },
    {
      "cell_type": "code",
      "metadata": {
        "colab": {
          "base_uri": "https://localhost:8080/"
        },
        "id": "tyPiuymTTBhl",
        "outputId": "c17347e3-1028-47bf-b8ad-9b7a16237142"
      },
      "source": [
        "O=[90;125;80;65]"
      ],
      "execution_count": null,
      "outputs": [
        {
          "output_type": "execute_result",
          "data": {
            "text/plain": [
              "4-element Array{Int64,1}:\n",
              "  90\n",
              " 125\n",
              "  80\n",
              "  65"
            ]
          },
          "metadata": {
            "tags": []
          },
          "execution_count": 14
        }
      ]
    },
    {
      "cell_type": "code",
      "metadata": {
        "colab": {
          "base_uri": "https://localhost:8080/"
        },
        "id": "3j-oI2VSTM-X",
        "outputId": "806f1e3a-69ca-46b0-c772-db5fe4e4d98e"
      },
      "source": [
        "nadji_pocetno_SZU(c,I,O)"
      ],
      "execution_count": null,
      "outputs": [
        {
          "output_type": "execute_result",
          "data": {
            "text/plain": [
              "(Int8[90 10 0 0; 0 115 5 0; 0 0 75 55], 2615)"
            ]
          },
          "metadata": {
            "tags": []
          },
          "execution_count": 17
        }
      ]
    },
    {
      "cell_type": "markdown",
      "metadata": {
        "id": "_MvDmuhkThLI"
      },
      "source": [
        "Jos testova"
      ]
    }
  ]
}